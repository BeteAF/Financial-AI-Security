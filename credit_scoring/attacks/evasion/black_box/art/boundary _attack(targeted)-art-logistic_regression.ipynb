{
 "cells": [
  {
   "cell_type": "markdown",
   "id": "600576c1-e0e0-460d-831a-5ab62ff2f29a",
   "metadata": {},
   "source": [
    "#  Targeted Boundary Attack on Logistic Regression Model (German Credit Dataset)"
   ]
  },
  {
   "cell_type": "code",
   "execution_count": 1,
   "id": "aca418c8-c5c8-42de-9f68-e27e5c8e6b83",
   "metadata": {},
   "outputs": [
    {
     "name": "stderr",
     "output_type": "stream",
     "text": [
      "C:\\Users\\baberra\\AppData\\Local\\anaconda3\\Lib\\site-packages\\art\\estimators\\certification\\__init__.py:30: UserWarning: PyTorch not found. Not importing DeepZ or Interval Bound Propagation functionality\n",
      "  warnings.warn(\"PyTorch not found. Not importing DeepZ or Interval Bound Propagation functionality\")\n"
     ]
    }
   ],
   "source": [
    "from art.attacks.evasion import BoundaryAttack\n",
    "from art.estimators.classification import SklearnClassifier\n",
    "from sklearn.metrics import accuracy_score, classification_report, confusion_matrix\n",
    "from sklearn.linear_model import LogisticRegression\n",
    "\n",
    "import matplotlib.pyplot as plt\n",
    "import numpy as np\n",
    "import pandas as pd\n",
    "import joblib\n",
    "import seaborn as sns\n",
    "import warnings\n",
    "warnings.filterwarnings(\"ignore\", category=UserWarning)"
   ]
  },
  {
   "cell_type": "code",
   "execution_count": 2,
   "id": "a833d029-e5bd-4f20-b863-7c88b12e0f45",
   "metadata": {},
   "outputs": [],
   "source": [
    "# Load the trained model and test data (Ensure the model/data were saved in previous training notebook)\n",
    "model = joblib.load(\"../../../../saved_models/credit_scoring_model_german_dataset---logistic_regression.joblib\")\n",
    "X_test = joblib.load(\"../../../../saved_models/credit_scoring_model_german_dataset---logistic_regression-X_test.joblib\")\n",
    "y_test = joblib.load(\"../../../../saved_models/credit_scoring_model_german_dataset---logistic_regression-y_test.joblib\")"
   ]
  },
  {
   "cell_type": "code",
   "execution_count": 3,
   "id": "675c8066-fc27-4533-83cc-7df0c9a4f925",
   "metadata": {},
   "outputs": [],
   "source": [
    "# Wrap model with ART SklearnClassifier with `clip_values` and use_logits=True\n",
    "art_classifier = SklearnClassifier(\n",
    "    model=model,\n",
    "    use_logits=True,  # Enables using model.decision_function() instead of predict_proba\n",
    "    clip_values=(X_test.min().min(), X_test.max().max())\n",
    ")"
   ]
  },
  {
   "cell_type": "code",
   "execution_count": 4,
   "id": "081a8142-6c07-47b5-9073-2532295e0c23",
   "metadata": {},
   "outputs": [],
   "source": [
    "# Evaluate on clean examples\n",
    "y_pred_clean = art_classifier.predict(X_test.to_numpy())\n",
    "y_pred_clean_labels = np.argmax(y_pred_clean, axis=1)\n",
    "acc_clean = accuracy_score(y_test, y_pred_clean_labels)\n",
    "cm_clean = confusion_matrix(y_test, y_pred_clean_labels)"
   ]
  },
  {
   "cell_type": "code",
   "execution_count": 5,
   "id": "b22c30a9-16c8-47c8-9625-549c5486a4b8",
   "metadata": {},
   "outputs": [
    {
     "data": {
      "application/vnd.jupyter.widget-view+json": {
       "model_id": "f8cb556f25d243ce8b66fdce2c061677",
       "version_major": 2,
       "version_minor": 0
      },
      "text/plain": [
       "Boundary attack:   0%|          | 0/200 [00:00<?, ?it/s]"
      ]
     },
     "metadata": {},
     "output_type": "display_data"
    },
    {
     "data": {
      "application/vnd.jupyter.widget-view+json": {
       "model_id": "780856188dbd4719bfce91b53cc0fb28",
       "version_major": 2,
       "version_minor": 0
      },
      "text/plain": [
       "Boundary attack - iterations:   0%|          | 0/1000 [00:00<?, ?it/s]"
      ]
     },
     "metadata": {},
     "output_type": "display_data"
    },
    {
     "data": {
      "application/vnd.jupyter.widget-view+json": {
       "model_id": "0f634523f8824f4d8494a38345578d99",
       "version_major": 2,
       "version_minor": 0
      },
      "text/plain": [
       "Boundary attack - iterations:   0%|          | 0/1000 [00:00<?, ?it/s]"
      ]
     },
     "metadata": {},
     "output_type": "display_data"
    },
    {
     "data": {
      "application/vnd.jupyter.widget-view+json": {
       "model_id": "3745f86099034c918faa3edb720ef178",
       "version_major": 2,
       "version_minor": 0
      },
      "text/plain": [
       "Boundary attack - iterations:   0%|          | 0/1000 [00:00<?, ?it/s]"
      ]
     },
     "metadata": {},
     "output_type": "display_data"
    },
    {
     "data": {
      "application/vnd.jupyter.widget-view+json": {
       "model_id": "e28c75a4aabe4ae7b256fe0539d1ceda",
       "version_major": 2,
       "version_minor": 0
      },
      "text/plain": [
       "Boundary attack - iterations:   0%|          | 0/1000 [00:00<?, ?it/s]"
      ]
     },
     "metadata": {},
     "output_type": "display_data"
    },
    {
     "data": {
      "application/vnd.jupyter.widget-view+json": {
       "model_id": "98efbcdd373d426ea631cac6cf7d13d5",
       "version_major": 2,
       "version_minor": 0
      },
      "text/plain": [
       "Boundary attack - iterations:   0%|          | 0/1000 [00:00<?, ?it/s]"
      ]
     },
     "metadata": {},
     "output_type": "display_data"
    },
    {
     "data": {
      "application/vnd.jupyter.widget-view+json": {
       "model_id": "e8d2581529eb4d299eaab179ccfd40ae",
       "version_major": 2,
       "version_minor": 0
      },
      "text/plain": [
       "Boundary attack - iterations:   0%|          | 0/1000 [00:00<?, ?it/s]"
      ]
     },
     "metadata": {},
     "output_type": "display_data"
    },
    {
     "data": {
      "application/vnd.jupyter.widget-view+json": {
       "model_id": "db40648e853c46b4a0d7f00fc25cab56",
       "version_major": 2,
       "version_minor": 0
      },
      "text/plain": [
       "Boundary attack - iterations:   0%|          | 0/1000 [00:00<?, ?it/s]"
      ]
     },
     "metadata": {},
     "output_type": "display_data"
    },
    {
     "data": {
      "application/vnd.jupyter.widget-view+json": {
       "model_id": "31070056f7f5405892070021fcec9abd",
       "version_major": 2,
       "version_minor": 0
      },
      "text/plain": [
       "Boundary attack - iterations:   0%|          | 0/1000 [00:00<?, ?it/s]"
      ]
     },
     "metadata": {},
     "output_type": "display_data"
    },
    {
     "data": {
      "application/vnd.jupyter.widget-view+json": {
       "model_id": "39fbadf1e1a246aea793a6d2b855b79f",
       "version_major": 2,
       "version_minor": 0
      },
      "text/plain": [
       "Boundary attack - iterations:   0%|          | 0/1000 [00:00<?, ?it/s]"
      ]
     },
     "metadata": {},
     "output_type": "display_data"
    },
    {
     "data": {
      "application/vnd.jupyter.widget-view+json": {
       "model_id": "18e6c06324b844699756a7c98e005e23",
       "version_major": 2,
       "version_minor": 0
      },
      "text/plain": [
       "Boundary attack - iterations:   0%|          | 0/1000 [00:00<?, ?it/s]"
      ]
     },
     "metadata": {},
     "output_type": "display_data"
    },
    {
     "data": {
      "application/vnd.jupyter.widget-view+json": {
       "model_id": "af0e3d5e264440aa82c5ef57862cc2b0",
       "version_major": 2,
       "version_minor": 0
      },
      "text/plain": [
       "Boundary attack - iterations:   0%|          | 0/1000 [00:00<?, ?it/s]"
      ]
     },
     "metadata": {},
     "output_type": "display_data"
    },
    {
     "data": {
      "application/vnd.jupyter.widget-view+json": {
       "model_id": "d623dd452ba74a49af85ee9ee9a1611e",
       "version_major": 2,
       "version_minor": 0
      },
      "text/plain": [
       "Boundary attack - iterations:   0%|          | 0/1000 [00:00<?, ?it/s]"
      ]
     },
     "metadata": {},
     "output_type": "display_data"
    },
    {
     "data": {
      "application/vnd.jupyter.widget-view+json": {
       "model_id": "32be7817e2da4af79ce0fca063df5d8c",
       "version_major": 2,
       "version_minor": 0
      },
      "text/plain": [
       "Boundary attack - iterations:   0%|          | 0/1000 [00:00<?, ?it/s]"
      ]
     },
     "metadata": {},
     "output_type": "display_data"
    },
    {
     "data": {
      "application/vnd.jupyter.widget-view+json": {
       "model_id": "dc3620bd9d2e48dfab4cd84a18c4ba3f",
       "version_major": 2,
       "version_minor": 0
      },
      "text/plain": [
       "Boundary attack - iterations:   0%|          | 0/1000 [00:00<?, ?it/s]"
      ]
     },
     "metadata": {},
     "output_type": "display_data"
    },
    {
     "data": {
      "application/vnd.jupyter.widget-view+json": {
       "model_id": "b448d8fe2ba8496bb2be57112a9d84d5",
       "version_major": 2,
       "version_minor": 0
      },
      "text/plain": [
       "Boundary attack - iterations:   0%|          | 0/1000 [00:00<?, ?it/s]"
      ]
     },
     "metadata": {},
     "output_type": "display_data"
    },
    {
     "data": {
      "application/vnd.jupyter.widget-view+json": {
       "model_id": "c32466debebd49b382aa098f124e5ba5",
       "version_major": 2,
       "version_minor": 0
      },
      "text/plain": [
       "Boundary attack - iterations:   0%|          | 0/1000 [00:00<?, ?it/s]"
      ]
     },
     "metadata": {},
     "output_type": "display_data"
    },
    {
     "data": {
      "application/vnd.jupyter.widget-view+json": {
       "model_id": "c2b379f38f884ae9a83734524e98f6f9",
       "version_major": 2,
       "version_minor": 0
      },
      "text/plain": [
       "Boundary attack - iterations:   0%|          | 0/1000 [00:00<?, ?it/s]"
      ]
     },
     "metadata": {},
     "output_type": "display_data"
    },
    {
     "data": {
      "application/vnd.jupyter.widget-view+json": {
       "model_id": "e45837f5581746e1a15f97636e5f3c00",
       "version_major": 2,
       "version_minor": 0
      },
      "text/plain": [
       "Boundary attack - iterations:   0%|          | 0/1000 [00:00<?, ?it/s]"
      ]
     },
     "metadata": {},
     "output_type": "display_data"
    },
    {
     "data": {
      "application/vnd.jupyter.widget-view+json": {
       "model_id": "b2721b2e32314996ba394cc3774ba075",
       "version_major": 2,
       "version_minor": 0
      },
      "text/plain": [
       "Boundary attack - iterations:   0%|          | 0/1000 [00:00<?, ?it/s]"
      ]
     },
     "metadata": {},
     "output_type": "display_data"
    },
    {
     "data": {
      "application/vnd.jupyter.widget-view+json": {
       "model_id": "a81ca5f4a601437e84ee6192293da3b5",
       "version_major": 2,
       "version_minor": 0
      },
      "text/plain": [
       "Boundary attack - iterations:   0%|          | 0/1000 [00:00<?, ?it/s]"
      ]
     },
     "metadata": {},
     "output_type": "display_data"
    },
    {
     "data": {
      "application/vnd.jupyter.widget-view+json": {
       "model_id": "39bff04b909e4ac1892cc2b69bd70bba",
       "version_major": 2,
       "version_minor": 0
      },
      "text/plain": [
       "Boundary attack - iterations:   0%|          | 0/1000 [00:00<?, ?it/s]"
      ]
     },
     "metadata": {},
     "output_type": "display_data"
    },
    {
     "data": {
      "application/vnd.jupyter.widget-view+json": {
       "model_id": "7f79f26f31b845dda5e076a9702f6b26",
       "version_major": 2,
       "version_minor": 0
      },
      "text/plain": [
       "Boundary attack - iterations:   0%|          | 0/1000 [00:00<?, ?it/s]"
      ]
     },
     "metadata": {},
     "output_type": "display_data"
    },
    {
     "data": {
      "application/vnd.jupyter.widget-view+json": {
       "model_id": "9f8515099c914b208f841de59a87d524",
       "version_major": 2,
       "version_minor": 0
      },
      "text/plain": [
       "Boundary attack - iterations:   0%|          | 0/1000 [00:00<?, ?it/s]"
      ]
     },
     "metadata": {},
     "output_type": "display_data"
    },
    {
     "data": {
      "application/vnd.jupyter.widget-view+json": {
       "model_id": "e0c75d91b79b4143ab13e9e04705c3d8",
       "version_major": 2,
       "version_minor": 0
      },
      "text/plain": [
       "Boundary attack - iterations:   0%|          | 0/1000 [00:00<?, ?it/s]"
      ]
     },
     "metadata": {},
     "output_type": "display_data"
    },
    {
     "data": {
      "application/vnd.jupyter.widget-view+json": {
       "model_id": "2fede74c266247a097a181e87d92d991",
       "version_major": 2,
       "version_minor": 0
      },
      "text/plain": [
       "Boundary attack - iterations:   0%|          | 0/1000 [00:00<?, ?it/s]"
      ]
     },
     "metadata": {},
     "output_type": "display_data"
    },
    {
     "data": {
      "application/vnd.jupyter.widget-view+json": {
       "model_id": "d9fdaaba1f4844a8ba6ce51c3c2c8722",
       "version_major": 2,
       "version_minor": 0
      },
      "text/plain": [
       "Boundary attack - iterations:   0%|          | 0/1000 [00:00<?, ?it/s]"
      ]
     },
     "metadata": {},
     "output_type": "display_data"
    },
    {
     "data": {
      "application/vnd.jupyter.widget-view+json": {
       "model_id": "ec4ea7aa72c04d6f91e1a58031f3abda",
       "version_major": 2,
       "version_minor": 0
      },
      "text/plain": [
       "Boundary attack - iterations:   0%|          | 0/1000 [00:00<?, ?it/s]"
      ]
     },
     "metadata": {},
     "output_type": "display_data"
    },
    {
     "data": {
      "application/vnd.jupyter.widget-view+json": {
       "model_id": "e047a55141af46dbb84b8c0b865730ef",
       "version_major": 2,
       "version_minor": 0
      },
      "text/plain": [
       "Boundary attack - iterations:   0%|          | 0/1000 [00:00<?, ?it/s]"
      ]
     },
     "metadata": {},
     "output_type": "display_data"
    },
    {
     "data": {
      "application/vnd.jupyter.widget-view+json": {
       "model_id": "d4e0750ecb2141f9adca4d0b7dba9528",
       "version_major": 2,
       "version_minor": 0
      },
      "text/plain": [
       "Boundary attack - iterations:   0%|          | 0/1000 [00:00<?, ?it/s]"
      ]
     },
     "metadata": {},
     "output_type": "display_data"
    },
    {
     "data": {
      "application/vnd.jupyter.widget-view+json": {
       "model_id": "19edd4ec391145f8be9711d98808cda7",
       "version_major": 2,
       "version_minor": 0
      },
      "text/plain": [
       "Boundary attack - iterations:   0%|          | 0/1000 [00:00<?, ?it/s]"
      ]
     },
     "metadata": {},
     "output_type": "display_data"
    },
    {
     "data": {
      "application/vnd.jupyter.widget-view+json": {
       "model_id": "f7517c00cfb244b0b40856e0e1859b33",
       "version_major": 2,
       "version_minor": 0
      },
      "text/plain": [
       "Boundary attack - iterations:   0%|          | 0/1000 [00:00<?, ?it/s]"
      ]
     },
     "metadata": {},
     "output_type": "display_data"
    },
    {
     "data": {
      "application/vnd.jupyter.widget-view+json": {
       "model_id": "1b6a87483fe2492dbf0f6a75aff80bec",
       "version_major": 2,
       "version_minor": 0
      },
      "text/plain": [
       "Boundary attack - iterations:   0%|          | 0/1000 [00:00<?, ?it/s]"
      ]
     },
     "metadata": {},
     "output_type": "display_data"
    },
    {
     "data": {
      "application/vnd.jupyter.widget-view+json": {
       "model_id": "947ec3e8bcd5486da5979ee96290a43f",
       "version_major": 2,
       "version_minor": 0
      },
      "text/plain": [
       "Boundary attack - iterations:   0%|          | 0/1000 [00:00<?, ?it/s]"
      ]
     },
     "metadata": {},
     "output_type": "display_data"
    },
    {
     "data": {
      "application/vnd.jupyter.widget-view+json": {
       "model_id": "9125fee2cdaf487db1f08783d7f396a7",
       "version_major": 2,
       "version_minor": 0
      },
      "text/plain": [
       "Boundary attack - iterations:   0%|          | 0/1000 [00:00<?, ?it/s]"
      ]
     },
     "metadata": {},
     "output_type": "display_data"
    },
    {
     "data": {
      "application/vnd.jupyter.widget-view+json": {
       "model_id": "dc3cda700dbf4094bc91dc1810ebcd5e",
       "version_major": 2,
       "version_minor": 0
      },
      "text/plain": [
       "Boundary attack - iterations:   0%|          | 0/1000 [00:00<?, ?it/s]"
      ]
     },
     "metadata": {},
     "output_type": "display_data"
    },
    {
     "data": {
      "application/vnd.jupyter.widget-view+json": {
       "model_id": "5d0a76ff7df34f62855af4c81fbc219c",
       "version_major": 2,
       "version_minor": 0
      },
      "text/plain": [
       "Boundary attack - iterations:   0%|          | 0/1000 [00:00<?, ?it/s]"
      ]
     },
     "metadata": {},
     "output_type": "display_data"
    }
   ],
   "source": [
    "# === Boundary Attack ===\n",
    "boundary = BoundaryAttack(\n",
    "    estimator=art_classifier,\n",
    "    targeted=True,    #  Targeted attack: Force the model to output a specific label chosen by the attacker. True label: \"Loan Approved\", Attacker’s target: \"Loan Rejected\"\n",
    "    step_adapt=0.9,\n",
    "    max_iter=1000,     # per-sample maximum iterations (reduce to speed up)\n",
    "    delta=0.01,        # initial step size for proposals\n",
    "    epsilon=0.01       # orthogonal step size\n",
    ")\n",
    "\n",
    "# Suppose the attacker wants all inputs to be classified as \"Loan Rejected\"\n",
    "# If your labels are one-hot encoded:\n",
    "target_class_index = 0  # e.g., class index for \"Loan Rejected\"\n",
    "\n",
    "# Create a 1D array of the same length as X_test with all values = target_class_index\n",
    "y_target = np.full(shape=(len(X_test),), fill_value=target_class_index)\n",
    "\n",
    "# Now generate adversarial examples with target labels\n",
    "X_test_adv = boundary.generate(x=X_test.values, y=y_target)\n",
    "# Use .values to convert DataFrame to NumPy array\n",
    "#X_test_adv = boundary.generate(x=X_test.values)"
   ]
  },
  {
   "cell_type": "code",
   "execution_count": 6,
   "id": "fae29062-f5c8-4c13-9efd-5b1e7e2ed007",
   "metadata": {},
   "outputs": [
    {
     "name": "stdout",
     "output_type": "stream",
     "text": [
      "Accuracy on Clean Examples: 0.7300\n",
      "Accuracy on Adversarial Examples: 0.7000\n",
      "Attack Success Rate: 4.11%\n",
      "\n",
      "Classification Report on Adversarial Examples:\n",
      "               precision    recall  f1-score   support\n",
      "\n",
      "           0       0.70      1.00      0.82       140\n",
      "           1       0.00      0.00      0.00        60\n",
      "\n",
      "    accuracy                           0.70       200\n",
      "   macro avg       0.35      0.50      0.41       200\n",
      "weighted avg       0.49      0.70      0.58       200\n",
      "\n",
      "Average Perturbation per Feature: 0.0061230014942041215\n"
     ]
    }
   ],
   "source": [
    "# Evaluate the model on adversarial examples\n",
    "y_pred_adv = art_classifier.predict(X_test_adv)\n",
    "y_pred_adv_labels = np.argmax(y_pred_adv, axis=1)\n",
    "\n",
    "acc_adv = accuracy_score(y_test, y_pred_adv_labels)\n",
    "cm_adv = confusion_matrix(y_test, y_pred_adv_labels)\n",
    "report = classification_report(y_test, y_pred_adv_labels)\n",
    "\n",
    "# Compare performance\n",
    "print(f\"Accuracy on Clean Examples: {acc_clean:.4f}\")\n",
    "print(f\"Accuracy on Adversarial Examples: {acc_adv:.4f}\")\n",
    "print(f\"Attack Success Rate: {(acc_clean - acc_adv) / acc_clean * 100:.2f}%\")\n",
    "print(\"\\nClassification Report on Adversarial Examples:\\n\", report)\n",
    "\n",
    "# Check Perturbation Magnitude\n",
    "perturbation = np.mean(np.abs(X_test_adv - X_test.values))\n",
    "print(\"Average Perturbation per Feature:\", perturbation)"
   ]
  },
  {
   "cell_type": "code",
   "execution_count": 7,
   "id": "f598f1d2-eca9-4a5f-a9a6-32cf892d0a9d",
   "metadata": {},
   "outputs": [
    {
     "data": {
      "image/png": "[encoded data removed]",
      "text/plain": [
       "<Figure size 1200x500 with 4 Axes>"
      ]
     },
     "metadata": {},
     "output_type": "display_data"
    }
   ],
   "source": [
    "# Plot Confusion Matrices\n",
    "fig, axes = plt.subplots(1, 2, figsize=(12, 5))\n",
    "\n",
    "sns.heatmap(cm_clean, annot=True, fmt='d', cmap=\"Greens\", ax=axes[0])\n",
    "axes[0].set_title(\"Confusion Matrix (Clean)\")\n",
    "axes[0].set_xlabel(\"Predicted\")\n",
    "axes[0].set_ylabel(\"Actual\")\n",
    "\n",
    "sns.heatmap(cm_adv, annot=True, fmt='d', cmap=\"Reds\", ax=axes[1])\n",
    "axes[1].set_title(\"Confusion Matrix (Boundary Attacked)\")\n",
    "axes[1].set_xlabel(\"Predicted\")\n",
    "axes[1].set_ylabel(\"Actual\")\n",
    "\n",
    "plt.tight_layout()\n",
    "plt.show()"
   ]
  },
  {
   "cell_type": "code",
   "execution_count": 8,
   "id": "fcb0b0bd-747c-4902-b92e-7e60ec514cad",
   "metadata": {},
   "outputs": [
    {
     "name": "stdout",
     "output_type": "stream",
     "text": [
      "\n",
      "Random Sample Predictions:\n"
     ]
    },
    {
     "data": {
      "text/html": [
       "<div>\n",
       "<style scoped>\n",
       "    .dataframe tbody tr th:only-of-type {\n",
       "        vertical-align: middle;\n",
       "    }\n",
       "\n",
       "    .dataframe tbody tr th {\n",
       "        vertical-align: top;\n",
       "    }\n",
       "\n",
       "    .dataframe thead th {\n",
       "        text-align: right;\n",
       "    }\n",
       "</style>\n",
       "<table border=\"1\" class=\"dataframe\">\n",
       "  <thead>\n",
       "    <tr style=\"text-align: right;\">\n",
       "      <th></th>\n",
       "      <th>Actual</th>\n",
       "      <th>Predicted</th>\n",
       "      <th>Correct</th>\n",
       "      <th>Age</th>\n",
       "      <th>Credit amount</th>\n",
       "      <th>Duration</th>\n",
       "      <th>Job_1</th>\n",
       "      <th>Job_2</th>\n",
       "      <th>Job_3</th>\n",
       "      <th>Housing_own</th>\n",
       "      <th>Housing_rent</th>\n",
       "    </tr>\n",
       "  </thead>\n",
       "  <tbody>\n",
       "    <tr>\n",
       "      <th>662</th>\n",
       "      <td>0</td>\n",
       "      <td>0</td>\n",
       "      <td>True</td>\n",
       "      <td>1.329562</td>\n",
       "      <td>-0.355028</td>\n",
       "      <td>0.019475</td>\n",
       "      <td>False</td>\n",
       "      <td>True</td>\n",
       "      <td>False</td>\n",
       "      <td>True</td>\n",
       "      <td>False</td>\n",
       "    </tr>\n",
       "    <tr>\n",
       "      <th>430</th>\n",
       "      <td>0</td>\n",
       "      <td>0</td>\n",
       "      <td>True</td>\n",
       "      <td>3.503789</td>\n",
       "      <td>0.096714</td>\n",
       "      <td>-1.335316</td>\n",
       "      <td>True</td>\n",
       "      <td>False</td>\n",
       "      <td>False</td>\n",
       "      <td>True</td>\n",
       "      <td>False</td>\n",
       "    </tr>\n",
       "    <tr>\n",
       "      <th>551</th>\n",
       "      <td>0</td>\n",
       "      <td>0</td>\n",
       "      <td>True</td>\n",
       "      <td>0.876598</td>\n",
       "      <td>-0.538794</td>\n",
       "      <td>-1.250642</td>\n",
       "      <td>True</td>\n",
       "      <td>False</td>\n",
       "      <td>False</td>\n",
       "      <td>True</td>\n",
       "      <td>False</td>\n",
       "    </tr>\n",
       "    <tr>\n",
       "      <th>263</th>\n",
       "      <td>0</td>\n",
       "      <td>0</td>\n",
       "      <td>True</td>\n",
       "      <td>1.963712</td>\n",
       "      <td>-0.165274</td>\n",
       "      <td>-0.742595</td>\n",
       "      <td>True</td>\n",
       "      <td>False</td>\n",
       "      <td>False</td>\n",
       "      <td>False</td>\n",
       "      <td>False</td>\n",
       "    </tr>\n",
       "    <tr>\n",
       "      <th>347</th>\n",
       "      <td>0</td>\n",
       "      <td>0</td>\n",
       "      <td>True</td>\n",
       "      <td>-1.116443</td>\n",
       "      <td>0.212738</td>\n",
       "      <td>0.273499</td>\n",
       "      <td>False</td>\n",
       "      <td>False</td>\n",
       "      <td>False</td>\n",
       "      <td>False</td>\n",
       "      <td>True</td>\n",
       "    </tr>\n",
       "    <tr>\n",
       "      <th>89</th>\n",
       "      <td>1</td>\n",
       "      <td>0</td>\n",
       "      <td>False</td>\n",
       "      <td>-0.663479</td>\n",
       "      <td>-0.779075</td>\n",
       "      <td>-0.742595</td>\n",
       "      <td>False</td>\n",
       "      <td>True</td>\n",
       "      <td>False</td>\n",
       "      <td>True</td>\n",
       "      <td>False</td>\n",
       "    </tr>\n",
       "    <tr>\n",
       "      <th>141</th>\n",
       "      <td>0</td>\n",
       "      <td>0</td>\n",
       "      <td>True</td>\n",
       "      <td>-0.482293</td>\n",
       "      <td>0.600855</td>\n",
       "      <td>1.289592</td>\n",
       "      <td>False</td>\n",
       "      <td>False</td>\n",
       "      <td>True</td>\n",
       "      <td>True</td>\n",
       "      <td>False</td>\n",
       "    </tr>\n",
       "    <tr>\n",
       "      <th>563</th>\n",
       "      <td>1</td>\n",
       "      <td>0</td>\n",
       "      <td>False</td>\n",
       "      <td>0.151856</td>\n",
       "      <td>3.443052</td>\n",
       "      <td>1.289592</td>\n",
       "      <td>False</td>\n",
       "      <td>True</td>\n",
       "      <td>False</td>\n",
       "      <td>False</td>\n",
       "      <td>False</td>\n",
       "    </tr>\n",
       "    <tr>\n",
       "      <th>28</th>\n",
       "      <td>0</td>\n",
       "      <td>0</td>\n",
       "      <td>True</td>\n",
       "      <td>-0.119922</td>\n",
       "      <td>-0.289905</td>\n",
       "      <td>-1.165967</td>\n",
       "      <td>False</td>\n",
       "      <td>True</td>\n",
       "      <td>False</td>\n",
       "      <td>True</td>\n",
       "      <td>False</td>\n",
       "    </tr>\n",
       "    <tr>\n",
       "      <th>933</th>\n",
       "      <td>0</td>\n",
       "      <td>0</td>\n",
       "      <td>True</td>\n",
       "      <td>0.604820</td>\n",
       "      <td>-0.998396</td>\n",
       "      <td>-0.742595</td>\n",
       "      <td>False</td>\n",
       "      <td>True</td>\n",
       "      <td>False</td>\n",
       "      <td>True</td>\n",
       "      <td>False</td>\n",
       "    </tr>\n",
       "  </tbody>\n",
       "</table>\n",
       "</div>"
      ],
      "text/plain": [
       "     Actual  Predicted  Correct       Age  Credit amount  Duration  Job_1  \\\n",
       "662       0          0     True  1.329562      -0.355028  0.019475  False   \n",
       "430       0          0     True  3.503789       0.096714 -1.335316   True   \n",
       "551       0          0     True  0.876598      -0.538794 -1.250642   True   \n",
       "263       0          0     True  1.963712      -0.165274 -0.742595   True   \n",
       "347       0          0     True -1.116443       0.212738  0.273499  False   \n",
       "89        1          0    False -0.663479      -0.779075 -0.742595  False   \n",
       "141       0          0     True -0.482293       0.600855  1.289592  False   \n",
       "563       1          0    False  0.151856       3.443052  1.289592  False   \n",
       "28        0          0     True -0.119922      -0.289905 -1.165967  False   \n",
       "933       0          0     True  0.604820      -0.998396 -0.742595  False   \n",
       "\n",
       "     Job_2  Job_3  Housing_own  Housing_rent  \n",
       "662   True  False         True         False  \n",
       "430  False  False         True         False  \n",
       "551  False  False         True         False  \n",
       "263  False  False        False         False  \n",
       "347  False  False        False          True  \n",
       "89    True  False         True         False  \n",
       "141  False   True         True         False  \n",
       "563   True  False        False         False  \n",
       "28    True  False         True         False  \n",
       "933   True  False         True         False  "
      ]
     },
     "execution_count": 8,
     "metadata": {},
     "output_type": "execute_result"
    }
   ],
   "source": [
    "# Sample Predictions on Adversarial Examples\n",
    "X_test_sample = X_test.copy()\n",
    "results_df = X_test_sample.copy()\n",
    "results_df['Actual'] = y_test.values\n",
    "results_df['Predicted'] = y_pred_adv_labels\n",
    "results_df['Correct'] = results_df['Actual'] == results_df['Predicted']\n",
    "\n",
    "columns_to_show = ['Actual', 'Predicted', 'Correct', 'Age', 'Credit amount', 'Duration',\n",
    "                   'Job_1', 'Job_2', 'Job_3', 'Housing_own', 'Housing_rent']\n",
    "results_df_subset = results_df[columns_to_show]\n",
    "\n",
    "print(\"\\nRandom Sample Predictions:\")\n",
    "results_df_subset.sample(10, random_state=42)"
   ]
  },
  {
   "cell_type": "code",
   "execution_count": null,
   "id": "da04295a-ee57-4ac9-ace1-7bd9d84725eb",
   "metadata": {},
   "outputs": [],
   "source": []
  }
 ],
 "metadata": {
  "kernelspec": {
   "display_name": "Python 3 (ipykernel)",
   "language": "python",
   "name": "python3"
  },
  "language_info": {
   "codemirror_mode": {
    "name": "ipython",
    "version": 3
   },
   "file_extension": ".py",
   "mimetype": "text/x-python",
   "name": "python",
   "nbconvert_exporter": "python",
   "pygments_lexer": "ipython3",
   "version": "3.12.7"
  }
 },
 "nbformat": 4,
 "nbformat_minor": 5
}
