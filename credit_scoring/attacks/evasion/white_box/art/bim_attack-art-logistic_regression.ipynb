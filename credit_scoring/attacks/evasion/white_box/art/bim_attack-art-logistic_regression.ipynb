{
 "cells": [
  {
   "cell_type": "markdown",
   "id": "22b21221",
   "metadata": {},
   "source": [
    "#  BIM Adversarial Attack on Logistic Regression Model (German Credit Dataset)"
   ]
  },
  {
   "cell_type": "code",
   "execution_count": 5,
   "id": "e9993a6d",
   "metadata": {},
   "outputs": [],
   "source": [
    "# Import Libraries\n",
    "from art.attacks.evasion import BasicIterativeMethod\n",
    "from art.estimators.classification import SklearnClassifier\n",
    "from sklearn.metrics import accuracy_score, classification_report, confusion_matrix\n",
    "\n",
    "import matplotlib.pyplot as plt\n",
    "import numpy as np\n",
    "import pandas as pd\n",
    "import joblib\n",
    "import seaborn as sns\n",
    "import warnings\n",
    "warnings.filterwarnings(\"ignore\", category=UserWarning)"
   ]
  },
  {
   "cell_type": "code",
   "execution_count": 6,
   "id": "2478f43a",
   "metadata": {},
   "outputs": [],
   "source": [
    "# Load the trained model and test data (Ensure the model/data were saved in previous training notebook)\n",
    "model = joblib.load(\"../../../../saved_models/credit_scoring_model_german_dataset---logistic_regression.joblib\")\n",
    "X_test = joblib.load(\"../../../../saved_models/credit_scoring_model_german_dataset---logistic_regression-X_test.joblib\")\n",
    "y_test = joblib.load(\"../../../../saved_models/credit_scoring_model_german_dataset---logistic_regression-y_test.joblib\")"
   ]
  },
  {
   "cell_type": "code",
   "execution_count": 7,
   "id": "f791d72b",
   "metadata": {},
   "outputs": [],
   "source": [
    "# Wrap the model with ART's SklearnClassifier\n",
    "art_classifier = SklearnClassifier(model=model)"
   ]
  },
  {
   "cell_type": "code",
   "execution_count": 8,
   "id": "2ee35f01-27d7-4be1-8fc1-dc2bf8f17f7f",
   "metadata": {},
   "outputs": [],
   "source": [
    "# === Clean Evaluation ===\n",
    "y_pred_clean = art_classifier.predict(X_test.to_numpy())\n",
    "y_pred_clean_labels = np.argmax(y_pred_clean, axis=1)\n",
    "acc_clean = accuracy_score(y_test, y_pred_clean_labels)\n",
    "cm_clean = confusion_matrix(y_test, y_pred_clean_labels)"
   ]
  },
  {
   "cell_type": "code",
   "execution_count": 9,
   "id": "09f504b7",
   "metadata": {},
   "outputs": [
    {
     "data": {
      "application/vnd.jupyter.widget-view+json": {
       "model_id": "b67aea4e2af54e70b67a32a49c39a3b5",
       "version_major": 2,
       "version_minor": 0
      },
      "text/plain": [
       "PGD - Random Initializations:   0%|          | 0/1 [00:00<?, ?it/s]"
      ]
     },
     "metadata": {},
     "output_type": "display_data"
    },
    {
     "data": {
      "application/vnd.jupyter.widget-view+json": {
       "model_id": "367159266d124f9285c3982c8888b6bb",
       "version_major": 2,
       "version_minor": 0
      },
      "text/plain": [
       "PGD - Iterations:   0%|          | 0/20 [00:00<?, ?it/s]"
      ]
     },
     "metadata": {},
     "output_type": "display_data"
    },
    {
     "data": {
      "application/vnd.jupyter.widget-view+json": {
       "model_id": "5c716000665f402fa53c0cd1cebaeb83",
       "version_major": 2,
       "version_minor": 0
      },
      "text/plain": [
       "PGD - Random Initializations:   0%|          | 0/1 [00:00<?, ?it/s]"
      ]
     },
     "metadata": {},
     "output_type": "display_data"
    },
    {
     "data": {
      "application/vnd.jupyter.widget-view+json": {
       "model_id": "5ad47ca9c6a641de9591380321823057",
       "version_major": 2,
       "version_minor": 0
      },
      "text/plain": [
       "PGD - Iterations:   0%|          | 0/20 [00:00<?, ?it/s]"
      ]
     },
     "metadata": {},
     "output_type": "display_data"
    },
    {
     "data": {
      "application/vnd.jupyter.widget-view+json": {
       "model_id": "a47361b7538c417b858bfc10092c639e",
       "version_major": 2,
       "version_minor": 0
      },
      "text/plain": [
       "PGD - Random Initializations:   0%|          | 0/1 [00:00<?, ?it/s]"
      ]
     },
     "metadata": {},
     "output_type": "display_data"
    },
    {
     "data": {
      "application/vnd.jupyter.widget-view+json": {
       "model_id": "8dce00bc86d7411b8bf86f5474c2585a",
       "version_major": 2,
       "version_minor": 0
      },
      "text/plain": [
       "PGD - Iterations:   0%|          | 0/20 [00:00<?, ?it/s]"
      ]
     },
     "metadata": {},
     "output_type": "display_data"
    },
    {
     "data": {
      "application/vnd.jupyter.widget-view+json": {
       "model_id": "3a9b16c2625a488b8357a1395df026ee",
       "version_major": 2,
       "version_minor": 0
      },
      "text/plain": [
       "PGD - Random Initializations:   0%|          | 0/1 [00:00<?, ?it/s]"
      ]
     },
     "metadata": {},
     "output_type": "display_data"
    },
    {
     "data": {
      "application/vnd.jupyter.widget-view+json": {
       "model_id": "7a6154da90074a849a15b4e928af89c7",
       "version_major": 2,
       "version_minor": 0
      },
      "text/plain": [
       "PGD - Iterations:   0%|          | 0/20 [00:00<?, ?it/s]"
      ]
     },
     "metadata": {},
     "output_type": "display_data"
    },
    {
     "data": {
      "application/vnd.jupyter.widget-view+json": {
       "model_id": "6587eb80beec4bd4bf93ce7be8762555",
       "version_major": 2,
       "version_minor": 0
      },
      "text/plain": [
       "PGD - Random Initializations:   0%|          | 0/1 [00:00<?, ?it/s]"
      ]
     },
     "metadata": {},
     "output_type": "display_data"
    },
    {
     "data": {
      "application/vnd.jupyter.widget-view+json": {
       "model_id": "ee2e5fce0db24fe3884f70a1e057f716",
       "version_major": 2,
       "version_minor": 0
      },
      "text/plain": [
       "PGD - Iterations:   0%|          | 0/20 [00:00<?, ?it/s]"
      ]
     },
     "metadata": {},
     "output_type": "display_data"
    },
    {
     "data": {
      "application/vnd.jupyter.widget-view+json": {
       "model_id": "3b7d372134c8454d9a21d507d5cb9d44",
       "version_major": 2,
       "version_minor": 0
      },
      "text/plain": [
       "PGD - Random Initializations:   0%|          | 0/1 [00:00<?, ?it/s]"
      ]
     },
     "metadata": {},
     "output_type": "display_data"
    },
    {
     "data": {
      "application/vnd.jupyter.widget-view+json": {
       "model_id": "6c2d6588465f4690b627f25bdd7e8557",
       "version_major": 2,
       "version_minor": 0
      },
      "text/plain": [
       "PGD - Iterations:   0%|          | 0/20 [00:00<?, ?it/s]"
      ]
     },
     "metadata": {},
     "output_type": "display_data"
    },
    {
     "data": {
      "application/vnd.jupyter.widget-view+json": {
       "model_id": "e6ed4756d0a94ad8b04566ee6d81d9c7",
       "version_major": 2,
       "version_minor": 0
      },
      "text/plain": [
       "PGD - Random Initializations:   0%|          | 0/1 [00:00<?, ?it/s]"
      ]
     },
     "metadata": {},
     "output_type": "display_data"
    },
    {
     "data": {
      "application/vnd.jupyter.widget-view+json": {
       "model_id": "6d2bc96f12fb455fae63b4bfccfc13a8",
       "version_major": 2,
       "version_minor": 0
      },
      "text/plain": [
       "PGD - Iterations:   0%|          | 0/20 [00:00<?, ?it/s]"
      ]
     },
     "metadata": {},
     "output_type": "display_data"
    }
   ],
   "source": [
    "# Adversarial attack using BIM\n",
    "bim = BasicIterativeMethod(\n",
    "    estimator=art_classifier,\n",
    "    eps=0.1,               # Maximum perturbation\n",
    "    eps_step=0.01,         # Step size\n",
    "    max_iter=20,           # Number of iterations\n",
    "    batch_size=32,\n",
    "    verbose=True\n",
    ")\n",
    "\n",
    "# Use .values to convert DataFrame to NumPy array\n",
    "X_test_adv = bim.generate(x=X_test.values)"
   ]
  },
  {
   "cell_type": "code",
   "execution_count": 10,
   "id": "c38dc6a4-b6dc-476e-8161-8ae7af147b9a",
   "metadata": {},
   "outputs": [
    {
     "name": "stdout",
     "output_type": "stream",
     "text": [
      "Accuracy on Clean Examples: 0.7300\n",
      "Accuracy on Adversarial Examples: 0.7150\n",
      "Attack Success Rate: 2.05%\n",
      "\n",
      "Classification Report on Adversarial Examples:\n",
      "               precision    recall  f1-score   support\n",
      "\n",
      "           0       0.79      0.81      0.80       140\n",
      "           1       0.53      0.50      0.51        60\n",
      "\n",
      "    accuracy                           0.71       200\n",
      "   macro avg       0.66      0.65      0.66       200\n",
      "weighted avg       0.71      0.71      0.71       200\n",
      "\n",
      "Average Perturbation per Feature: 0.10000000555848522\n"
     ]
    }
   ],
   "source": [
    "# Evaluate the model on adversarial examples\n",
    "y_pred_adv = art_classifier.predict(X_test_adv)\n",
    "y_pred_adv_labels = np.argmax(y_pred_adv, axis=1)\n",
    "\n",
    "acc_adv = accuracy_score(y_test, y_pred_adv_labels)\n",
    "cm_adv = confusion_matrix(y_test, y_pred_adv_labels)\n",
    "report = classification_report(y_test, y_pred_adv_labels)\n",
    "\n",
    "# Compare performance\n",
    "print(f\"Accuracy on Clean Examples: {acc_clean:.4f}\")\n",
    "print(f\"Accuracy on Adversarial Examples: {acc_adv:.4f}\")\n",
    "print(f\"Attack Success Rate: {(acc_clean - acc_adv) / acc_clean * 100:.2f}%\")\n",
    "print(\"\\nClassification Report on Adversarial Examples:\\n\", report)\n",
    "\n",
    "# Check Perturbation Magnitude\n",
    "perturbation = np.mean(np.abs(X_test_adv - X_test.values))\n",
    "print(\"Average Perturbation per Feature:\", perturbation)"
   ]
  },
  {
   "cell_type": "code",
   "execution_count": 13,
   "id": "f4dab150-2d2f-4df2-a6ac-826b916323ec",
   "metadata": {},
   "outputs": [
    {
     "data": {
      "image/png": "[encoded data removed]",
      "text/plain": [
       "<Figure size 1200x500 with 4 Axes>"
      ]
     },
     "metadata": {},
     "output_type": "display_data"
    }
   ],
   "source": [
    "# Plot Confusion Matrices\n",
    "fig, axes = plt.subplots(1, 2, figsize=(12, 5))\n",
    "\n",
    "sns.heatmap(cm_clean, annot=True, fmt='d', cmap=\"Greens\", ax=axes[0])\n",
    "axes[0].set_title(\"Confusion Matrix (Clean)\")\n",
    "axes[0].set_xlabel(\"Predicted\")\n",
    "axes[0].set_ylabel(\"Actual\")\n",
    "\n",
    "sns.heatmap(cm_adv, annot=True, fmt='d', cmap=\"Reds\", ax=axes[1])\n",
    "axes[1].set_title(\"Confusion Matrix (BIM Attacked)\")\n",
    "axes[1].set_xlabel(\"Predicted\")\n",
    "axes[1].set_ylabel(\"Actual\")\n",
    "\n",
    "plt.tight_layout()\n",
    "plt.show()"
   ]
  },
  {
   "cell_type": "code",
   "execution_count": 12,
   "id": "6ffec14d-da75-4515-9b36-3168a9ba825f",
   "metadata": {},
   "outputs": [
    {
     "name": "stdout",
     "output_type": "stream",
     "text": [
      "\n",
      "Random Sample Predictions:\n"
     ]
    },
    {
     "data": {
      "text/html": [
       "<div>\n",
       "<style scoped>\n",
       "    .dataframe tbody tr th:only-of-type {\n",
       "        vertical-align: middle;\n",
       "    }\n",
       "\n",
       "    .dataframe tbody tr th {\n",
       "        vertical-align: top;\n",
       "    }\n",
       "\n",
       "    .dataframe thead th {\n",
       "        text-align: right;\n",
       "    }\n",
       "</style>\n",
       "<table border=\"1\" class=\"dataframe\">\n",
       "  <thead>\n",
       "    <tr style=\"text-align: right;\">\n",
       "      <th></th>\n",
       "      <th>Actual</th>\n",
       "      <th>Predicted</th>\n",
       "      <th>Correct</th>\n",
       "      <th>Age</th>\n",
       "      <th>Credit amount</th>\n",
       "      <th>Duration</th>\n",
       "      <th>Job_1</th>\n",
       "      <th>Job_2</th>\n",
       "      <th>Job_3</th>\n",
       "      <th>Housing_own</th>\n",
       "      <th>Housing_rent</th>\n",
       "    </tr>\n",
       "  </thead>\n",
       "  <tbody>\n",
       "    <tr>\n",
       "      <th>662</th>\n",
       "      <td>0</td>\n",
       "      <td>0</td>\n",
       "      <td>True</td>\n",
       "      <td>1.329562</td>\n",
       "      <td>-0.355028</td>\n",
       "      <td>0.019475</td>\n",
       "      <td>False</td>\n",
       "      <td>True</td>\n",
       "      <td>False</td>\n",
       "      <td>True</td>\n",
       "      <td>False</td>\n",
       "    </tr>\n",
       "    <tr>\n",
       "      <th>430</th>\n",
       "      <td>0</td>\n",
       "      <td>0</td>\n",
       "      <td>True</td>\n",
       "      <td>3.503789</td>\n",
       "      <td>0.096714</td>\n",
       "      <td>-1.335316</td>\n",
       "      <td>True</td>\n",
       "      <td>False</td>\n",
       "      <td>False</td>\n",
       "      <td>True</td>\n",
       "      <td>False</td>\n",
       "    </tr>\n",
       "    <tr>\n",
       "      <th>551</th>\n",
       "      <td>0</td>\n",
       "      <td>0</td>\n",
       "      <td>True</td>\n",
       "      <td>0.876598</td>\n",
       "      <td>-0.538794</td>\n",
       "      <td>-1.250642</td>\n",
       "      <td>True</td>\n",
       "      <td>False</td>\n",
       "      <td>False</td>\n",
       "      <td>True</td>\n",
       "      <td>False</td>\n",
       "    </tr>\n",
       "    <tr>\n",
       "      <th>263</th>\n",
       "      <td>0</td>\n",
       "      <td>0</td>\n",
       "      <td>True</td>\n",
       "      <td>1.963712</td>\n",
       "      <td>-0.165274</td>\n",
       "      <td>-0.742595</td>\n",
       "      <td>True</td>\n",
       "      <td>False</td>\n",
       "      <td>False</td>\n",
       "      <td>False</td>\n",
       "      <td>False</td>\n",
       "    </tr>\n",
       "    <tr>\n",
       "      <th>347</th>\n",
       "      <td>0</td>\n",
       "      <td>1</td>\n",
       "      <td>False</td>\n",
       "      <td>-1.116443</td>\n",
       "      <td>0.212738</td>\n",
       "      <td>0.273499</td>\n",
       "      <td>False</td>\n",
       "      <td>False</td>\n",
       "      <td>False</td>\n",
       "      <td>False</td>\n",
       "      <td>True</td>\n",
       "    </tr>\n",
       "    <tr>\n",
       "      <th>89</th>\n",
       "      <td>1</td>\n",
       "      <td>1</td>\n",
       "      <td>True</td>\n",
       "      <td>-0.663479</td>\n",
       "      <td>-0.779075</td>\n",
       "      <td>-0.742595</td>\n",
       "      <td>False</td>\n",
       "      <td>True</td>\n",
       "      <td>False</td>\n",
       "      <td>True</td>\n",
       "      <td>False</td>\n",
       "    </tr>\n",
       "    <tr>\n",
       "      <th>141</th>\n",
       "      <td>0</td>\n",
       "      <td>0</td>\n",
       "      <td>True</td>\n",
       "      <td>-0.482293</td>\n",
       "      <td>0.600855</td>\n",
       "      <td>1.289592</td>\n",
       "      <td>False</td>\n",
       "      <td>False</td>\n",
       "      <td>True</td>\n",
       "      <td>True</td>\n",
       "      <td>False</td>\n",
       "    </tr>\n",
       "    <tr>\n",
       "      <th>563</th>\n",
       "      <td>1</td>\n",
       "      <td>1</td>\n",
       "      <td>True</td>\n",
       "      <td>0.151856</td>\n",
       "      <td>3.443052</td>\n",
       "      <td>1.289592</td>\n",
       "      <td>False</td>\n",
       "      <td>True</td>\n",
       "      <td>False</td>\n",
       "      <td>False</td>\n",
       "      <td>False</td>\n",
       "    </tr>\n",
       "    <tr>\n",
       "      <th>28</th>\n",
       "      <td>0</td>\n",
       "      <td>0</td>\n",
       "      <td>True</td>\n",
       "      <td>-0.119922</td>\n",
       "      <td>-0.289905</td>\n",
       "      <td>-1.165967</td>\n",
       "      <td>False</td>\n",
       "      <td>True</td>\n",
       "      <td>False</td>\n",
       "      <td>True</td>\n",
       "      <td>False</td>\n",
       "    </tr>\n",
       "    <tr>\n",
       "      <th>933</th>\n",
       "      <td>0</td>\n",
       "      <td>0</td>\n",
       "      <td>True</td>\n",
       "      <td>0.604820</td>\n",
       "      <td>-0.998396</td>\n",
       "      <td>-0.742595</td>\n",
       "      <td>False</td>\n",
       "      <td>True</td>\n",
       "      <td>False</td>\n",
       "      <td>True</td>\n",
       "      <td>False</td>\n",
       "    </tr>\n",
       "  </tbody>\n",
       "</table>\n",
       "</div>"
      ],
      "text/plain": [
       "     Actual  Predicted  Correct       Age  Credit amount  Duration  Job_1  \\\n",
       "662       0          0     True  1.329562      -0.355028  0.019475  False   \n",
       "430       0          0     True  3.503789       0.096714 -1.335316   True   \n",
       "551       0          0     True  0.876598      -0.538794 -1.250642   True   \n",
       "263       0          0     True  1.963712      -0.165274 -0.742595   True   \n",
       "347       0          1    False -1.116443       0.212738  0.273499  False   \n",
       "89        1          1     True -0.663479      -0.779075 -0.742595  False   \n",
       "141       0          0     True -0.482293       0.600855  1.289592  False   \n",
       "563       1          1     True  0.151856       3.443052  1.289592  False   \n",
       "28        0          0     True -0.119922      -0.289905 -1.165967  False   \n",
       "933       0          0     True  0.604820      -0.998396 -0.742595  False   \n",
       "\n",
       "     Job_2  Job_3  Housing_own  Housing_rent  \n",
       "662   True  False         True         False  \n",
       "430  False  False         True         False  \n",
       "551  False  False         True         False  \n",
       "263  False  False        False         False  \n",
       "347  False  False        False          True  \n",
       "89    True  False         True         False  \n",
       "141  False   True         True         False  \n",
       "563   True  False        False         False  \n",
       "28    True  False         True         False  \n",
       "933   True  False         True         False  "
      ]
     },
     "execution_count": 12,
     "metadata": {},
     "output_type": "execute_result"
    }
   ],
   "source": [
    "# Sample Predictions on Adversarial Examples\n",
    "X_test_sample = X_test.copy()\n",
    "results_df = X_test_sample.copy()\n",
    "results_df['Actual'] = y_test.values\n",
    "results_df['Predicted'] = y_pred_adv_labels\n",
    "results_df['Correct'] = results_df['Actual'] == results_df['Predicted']\n",
    "\n",
    "columns_to_show = ['Actual', 'Predicted', 'Correct', 'Age', 'Credit amount', 'Duration',\n",
    "                   'Job_1', 'Job_2', 'Job_3', 'Housing_own', 'Housing_rent']\n",
    "results_df_subset = results_df[columns_to_show]\n",
    "\n",
    "print(\"\\nRandom Sample Predictions:\")\n",
    "results_df_subset.sample(10, random_state=42)"
   ]
  },
  {
   "cell_type": "code",
   "execution_count": null,
   "id": "68f3ac78-0632-42e6-83cf-2c794b7a138c",
   "metadata": {},
   "outputs": [],
   "source": []
  },
  {
   "cell_type": "code",
   "execution_count": null,
   "id": "6ad4910d-8c4c-40d2-9fa4-84f53822e457",
   "metadata": {},
   "outputs": [],
   "source": []
  }
 ],
 "metadata": {
  "kernelspec": {
   "display_name": "Python 3 (ipykernel)",
   "language": "python",
   "name": "python3"
  },
  "language_info": {
   "codemirror_mode": {
    "name": "ipython",
    "version": 3
   },
   "file_extension": ".py",
   "mimetype": "text/x-python",
   "name": "python",
   "nbconvert_exporter": "python",
   "pygments_lexer": "ipython3",
   "version": "3.12.7"
  }
 },
 "nbformat": 4,
 "nbformat_minor": 5
}
